{
 "cells": [
  {
   "cell_type": "code",
   "execution_count": 1,
   "id": "da110e4a",
   "metadata": {},
   "outputs": [
    {
     "name": "stdout",
     "output_type": "stream",
     "text": [
      "WARNING:tensorflow:From C:\\Users\\abdul\\AppData\\Roaming\\Python\\Python311\\site-packages\\keras\\src\\losses.py:2976: The name tf.losses.sparse_softmax_cross_entropy is deprecated. Please use tf.compat.v1.losses.sparse_softmax_cross_entropy instead.\n",
      "\n"
     ]
    }
   ],
   "source": [
    "import pandas as pd\n",
    "from sklearn.model_selection import train_test_split\n",
    "from sklearn.feature_extraction.text import CountVectorizer\n",
    "from sklearn.naive_bayes import MultinomialNB\n",
    "from sklearn.linear_model import LogisticRegression\n",
    "from sklearn.metrics import f1_score, recall_score, precision_score\n",
    "from sklearn.feature_extraction.text import ENGLISH_STOP_WORDS\n",
    "from sklearn.feature_extraction.text import TfidfTransformer\n",
    "from sklearn.pipeline import Pipeline\n",
    "from sklearn.model_selection import cross_val_score\n",
    "import matplotlib.pyplot as plt\n",
    "from sklearn.metrics import confusion_matrix\n",
    "import seaborn as sns\n",
    "import pandas as pd\n",
    "import re\n",
    "import string\n",
    "from nltk.corpus import stopwords\n",
    "import warnings\n",
    "warnings.filterwarnings('ignore')\n",
    "import numpy as np\n",
    "import pandas as pd\n",
    "from sklearn.model_selection import train_test_split\n",
    "from sklearn.preprocessing import StandardScaler\n",
    "from tensorflow.keras.models import Sequential\n",
    "from tensorflow.keras.layers import Dense, Dropout, BatchNormalization\n",
    "from tensorflow.keras.callbacks import EarlyStopping\n",
    "import matplotlib.pyplot as plt\n",
    "from tensorflow.keras.optimizers import Adam\n",
    "from sklearn.metrics import confusion_matrix\n",
    "import seaborn as sns\n",
    "import tensorflow as tf\n",
    "import matplotlib.pyplot as plt\n",
    "from tensorflow.keras.regularizers import l2"
   ]
  },
  {
   "cell_type": "code",
   "execution_count": 2,
   "id": "cab7739b",
   "metadata": {},
   "outputs": [],
   "source": [
    "df = pd.read_csv('spam_assassin.csv')"
   ]
  },
  {
   "cell_type": "code",
   "execution_count": 3,
   "id": "34e72025",
   "metadata": {},
   "outputs": [
    {
     "data": {
      "text/html": [
       "<div>\n",
       "<style scoped>\n",
       "    .dataframe tbody tr th:only-of-type {\n",
       "        vertical-align: middle;\n",
       "    }\n",
       "\n",
       "    .dataframe tbody tr th {\n",
       "        vertical-align: top;\n",
       "    }\n",
       "\n",
       "    .dataframe thead th {\n",
       "        text-align: right;\n",
       "    }\n",
       "</style>\n",
       "<table border=\"1\" class=\"dataframe\">\n",
       "  <thead>\n",
       "    <tr style=\"text-align: right;\">\n",
       "      <th></th>\n",
       "      <th>text</th>\n",
       "      <th>target</th>\n",
       "    </tr>\n",
       "  </thead>\n",
       "  <tbody>\n",
       "    <tr>\n",
       "      <th>0</th>\n",
       "      <td>From ilug-admin@linux.ie Mon Jul 29 11:28:02 2...</td>\n",
       "      <td>0</td>\n",
       "    </tr>\n",
       "    <tr>\n",
       "      <th>1</th>\n",
       "      <td>From gort44@excite.com Mon Jun 24 17:54:21 200...</td>\n",
       "      <td>1</td>\n",
       "    </tr>\n",
       "    <tr>\n",
       "      <th>2</th>\n",
       "      <td>From fork-admin@xent.com Mon Jul 29 11:39:57 2...</td>\n",
       "      <td>1</td>\n",
       "    </tr>\n",
       "    <tr>\n",
       "      <th>3</th>\n",
       "      <td>From dcm123@btamail.net.cn Mon Jun 24 17:49:23...</td>\n",
       "      <td>1</td>\n",
       "    </tr>\n",
       "    <tr>\n",
       "      <th>4</th>\n",
       "      <td>From ilug-admin@linux.ie Mon Aug 19 11:02:47 2...</td>\n",
       "      <td>0</td>\n",
       "    </tr>\n",
       "  </tbody>\n",
       "</table>\n",
       "</div>"
      ],
      "text/plain": [
       "                                                text  target\n",
       "0  From ilug-admin@linux.ie Mon Jul 29 11:28:02 2...       0\n",
       "1  From gort44@excite.com Mon Jun 24 17:54:21 200...       1\n",
       "2  From fork-admin@xent.com Mon Jul 29 11:39:57 2...       1\n",
       "3  From dcm123@btamail.net.cn Mon Jun 24 17:49:23...       1\n",
       "4  From ilug-admin@linux.ie Mon Aug 19 11:02:47 2...       0"
      ]
     },
     "execution_count": 3,
     "metadata": {},
     "output_type": "execute_result"
    }
   ],
   "source": [
    "df.head()"
   ]
  },
  {
   "cell_type": "code",
   "execution_count": 4,
   "id": "0b5cbc02",
   "metadata": {},
   "outputs": [
    {
     "name": "stdout",
     "output_type": "stream",
     "text": [
      "['ilug admin ie mon jul return path delivered yyyy netnoteinc com received localhost localhost phobos labs netnoteinc com postfix esmtp id f mon jul edt received phobos localhost imap fetchmail jm single drop mon jul ist received lugh tuatha org root tuatha org dogma slashnull org esmtp id g rhn sat jul received lugh root lugh tuatha org esmtp id saa sat jul x authentication warning lugh tuatha org host root claimed lugh received mail mail iol ie mail mail iol ie lugh tuatha org esmtp id saa sat jul received dialup ts cwt esat net helo hobbiton cod ie mail mail iol ie esmtp exim id yvvf w ilug ie sat jul received cdaly hobbiton cod ie id g rdroo ilug ie sat jul date sat jul conor daly ilug main list subject ilug architecture crossover trouble w rh solved message id b cod ie mail followup ilug main list references c dce cd b c ba e fa maxtor com mime version content type text plain charset us ascii content disposition inline user agent mutt reply c dce cd b c ba e fa maxtor com conor wynne com fri jul pm sender ilug admin ie errors ilug admin ie x mailman version precedence bulk list id irish linux users group x beenthere ilug ie fri jul pm rumoured hereabouts wynne conor thought surely would faster save conf files install box copy back confs voila car confs boite data right yeah remember exactly confs modified etc either thats would sysadmins make life difficult complicated possible yup case two issues mirrored disk give someone else work box available p p processor celeron box crashing backup software wanted try backup different box make sure hardware related also interesting exercise thought mirroring system drives might save serious hassle line oh going africa aiming robust possible belt braces probably one jumpsuit mirroring disk worth much eg lightning strike taking disk system compromise also going backup cdr automated restore admin able build system mobo got fried replacement wrong arch compatible install mean dropping hd booting ish conor conor daly domestic sysadmin faenor cod ie pm days users load average hobbiton cod ie pm days user load average irish linux users group ilug ie un subscription information list maintainer listmaster ie', 'gort com mon jun return path gort com delivery date tue jun received mandark labs netnoteinc com dogma slashnull org esmtp id g vfo tue jun received wi poli poli cl mandark labs netnoteinc com smtp id g vc tue jun received unverified wi poli poli cl emwac smtprs smtp id tue jun message id irese subject cash home equity date tue jun mime version content type text plain charset windows x keywords content transfer encoding bit mortgage lenders brokers ready compete business whether new home loan seek refinance current home loan lower interest rate help mortgage rates low years take action refinance home us include pesky credit card bills use extra cash pool always wanted others say say yes even turned elsewhere help easy terms mortgage referral service combines highest quality loans economical rates easiest qualifications take minutes complete following form obligation information kept strictly confidential must least years age service available within united states service fast free free information request form please visit since received message either responded one offers past address registered us wish opt please visit', 'fork admin com mon jul return path delivered yyyy netnoteinc com received localhost localhost phobos labs netnoteinc com postfix esmtp id f f mon jul edt received phobos localhost imap fetchmail jm single drop mon jul ist received webnote net mail webnote net dogma slashnull org esmtp id g raeoi sat jul received xent com webnote net esmtp id eaa sat jul received lair xent com localhost xent com postfix esmtp id b fri jul pdt delivered fork taint org received bolehmail com unknown xent com postfix smtp id ebf b fri jul pdt received unknown helo f law hottestmale com f law hottestmale com asmtp jul received unknown rly yk aolmd com local jul received unknown helo smtp mail yahou com rly yk aolmd com asmtp fri jul received q quickslow com asmtp sat jul reply q com message id b b e e cb ad q com subject mortgage rates best lkvt rfxd c mime version content type text plain charset us ascii x priority normal x msmail priority normal x mailer microsoft outlook express importance normal sender fork admin com errors fork admin com x beenthere fork taint org x mailman version precedence bulk list help list post list subscribe list id friends rohit khare list unsubscribe list archive date fri jul content transfer encoding bit dear homeowner interest rates lowest point years help find best rate situation matching needs hundreds lenders home improvement refinance second mortgage home equity loans much much eligible even less perfect credit service free home owners new home buyers without obligation others say say yes take minutes complete following form obligation information kept strictly confidential must least years age service available within united states service fast free opt ryoe djsn wqdd upqi xzrr lkl', 'dcm net cn mon jun return path dcm net cn delivery date mon jun received mandark labs netnoteinc com dogma slashnull org esmtp id g g mon jun received tktweb tktpower com mandark labs netnoteinc com esmtp id g mon jun message id g labs netnoteinc com received smtp mail yahoo com dsl prodigy net mx tktweb tktpower com smtp microsoft exchange internet mail service version id mlv lzay thu jun date wed jun rudy chan x priority shandatch net cc tazzie net troby net vivranthang net jm com michael net rich net beam com bgarrett com subject online approval mime version x keywords content type text html charset us ascii content transfer encoding bit free card search sincerely new offers staff remove', 'ilug admin ie mon aug return path delivered yyyy netnoteinc com received localhost localhost phobos labs netnoteinc com postfix esmtp id cb fc mon aug edt received phobos localhost imap fetchmail jm single drop mon aug ist received lugh tuatha org root tuatha org dogma slashnull org esmtp id g hl j sat aug received lugh root lugh tuatha org esmtp id waa sat aug received hawk dcu ie mail dcu ie lugh tuatha org esmtp id waa sat aug x authentication warning lugh tuatha org host mail dcu ie claimed hawk dcu ie received prodigy redbrick dcu ie hawk dcu ie id bb ad ilug ie sat aug received prodigy redbrick dcu ie postfix userid id f da sat aug ist date sat aug philip reynolds ilug ie subject ilug expanding string multiple times message id h redbrick dcu ie references b com ga compsoc com mime version content type text plain charset us ascii content disposition inline user agent mutt reply ga compsoc com kor com sat aug sender ilug admin ie errors ilug admin ie x mailman version precedence bulk list id irish linux users group x beenthere ilug ie kevin riordan kor com lines wisdom included pungenday th day bureaucracy padraig brady confessed repeat string arbitrary number times bash sed e missing repeat following string number prefix repeat string number echo prefix perl string number prefix perl e print string x number echo prefix pretty sure bsd jot utility hand think jot installed linux systems default tone padraigs mail wanted however incorrect linux system hand following syntax jot b string phil philip reynolds rfc networks tel www rfc networks ie fax irish linux users group ilug ie un subscription information list maintainer listmaster ie', 'tobaccodemon es sat sep return path delivered zzzz spamassassin taint org received localhost jalapeno zzzzason org postfix esmtp id aa f sat sep ist received jalapeno localhost imap fetchmail zzzz single drop sat sep ist received linux local dogma slashnull org smtp id g cdac sat sep message id g cdac slashnull org received qmail invoked network sep received unknown helo h linux local smtp sep sales department subject half price cigarettes tobacco zzzz slashnull org sender sales department reply tobaccodemon es date sat sep x priority x library indy dear sir madam past requested information discounted products hope find interest smoker find email offensive sincerely apologise happy take mailing list smoker however fed paying high prices cigarettes tobacco take look offer clicking link id send legally registered air mail direct door cartons cigarettes pouches rolling tobacco brands available euros pounds fully inclusive postage packing pay remove mailing list please click mailto smokersclub es faithfully smokers united id xay', 'larlar com sat jun return path delivered yyyy com received mail co kenosha wi us unknown mail netnoteinc com postfix smtp id c e sat jun ist received name available mail co kenosha wi us via smtpd gw netnoteinc com smtp jun ut received ntri co kenosha wi us kcex co kenosha wi us smtp microsoft exchange internet mail service version id n fri jun message id f bfb cc org ar ris daidacenott sere chuea cesaimtv net ie smtp id nae larlar com received sdn ar flmiamp dialsprint net ntri co kenosha wi us via smtpd smtp jun ut subject notice date fri jun mime version content transfer encoding bit x priority x msmail priority normal loan specialists tap huge network lenders u homeowners interest rates dropped start saving shop best loan debt need extra cash get loan need regardless whether good bad credit help specialize first second mortgages including loans lenders turn funding borrowers less perfect credit specialty loan programs unheard click details removal instructions may automatically remove future mailings clicking mailto geoposti com subject delete mort', 'rpm list admin net thu jul return path delivered yyyy netnoteinc com received localhost localhost phobos labs netnoteinc com postfix esmtp id eea e de thu jul edt received phobos localhost imap fetchmail jm single drop thu jul ist received egwn net ns egwn net dogma slashnull org esmtp id g p dx thu jul received auth nl egwn net localhost egwn net egwn esmtp id g p c thu jul received python gw es egwn net authenticated egwn net egwn esmtp id g p fc thu jul matthias saou rpm zzzlist net subject sylpheed gnome ximian apt repos message id c e matthias net reply camel localdomain references frs dudex net camel camel localdomain organization electronic group interactive x mailer sylpheed version claws gtk redhat linux reply tue jul x operating system gnu linux power x message flag try using real operating system gnu linux power mime version content type text plain charset us ascii content transfer encoding bit x mailscanner found clean found clean sender rpm zzzlist admin net errors rpm zzzlist admin net x beenthere rpm zzzlist net x mailman version precedence bulk reply rpm zzzlist net list help list post list subscribe list id freshrpms rpm discussion list list unsubscribe list archive x original date thu jul date thu jul upon time lance wrote well looks things import mail settings evolution sylpheed anyone successfully run sylpheed gnome noticed apt get install gnome session rpm gnome repository sylpheed one packages selected deletion think simply sylpheed gnome application simple gtk one needs gnome libs upgrading gnome keeping gtk let keep sylpheed problem matthias ps expect freshrpms net minutes matthias saou world trade center edificio norte planta system network engineer barcelona spain electronic group interactive phone rpm list mailing list list', 'exmh users admin com wed aug return path delivered yyyy netnoteinc com received localhost localhost phobos labs netnoteinc com postfix esmtp id b c wed aug edt received phobos localhost imap fetchmail jm single drop wed aug ist received listman spamassassin taint org listman spamassassin taint org dogma slashnull org esmtp id g fak wed aug received listman spamassassin taint org localhost localdomain listman redhat com postfix esmtp id f wed aug edt delivered exmh users spamassassin taint org received int mx corp spamassassin taint org int mx corp spamassassin taint org listman redhat com postfix esmtp id cc f wed aug edt received mail int mx corp spamassassin taint org id g u exmh users redhat com wed aug received mx spamassassin taint org mx spamassassin taint org int mx corp redhat com smtp id g q wed aug received sss pgh pa us root mx spamassassin taint org smtp id g q l wed aug received sss sss pgh pa us tgl sss pgh pa us esmtp id g ctvk wed aug edt exmh users taint org subject curses interface nmh reply nu references e org nu comments reply j c lawrence message dated tue aug message id pgh pa us tom lane x loop exmh users taint org sender exmh users admin taint org errors exmh users admin taint org x beenthere exmh users taint org x mailman version precedence bulk reply exmh users taint org list help list post list subscribe list id discussion list exmh users list unsubscribe list archive date wed aug j c lawrence writes tom reingold wrote years ago package called mh e emacs interface mh know still around works idea still around actively maintained quite well evolved useta use mh e regularly never figured whether could handle exmh multidrop mechanism something grown rely work recent mh e versions love use mh e reading mail remotely handle multiple inbox folders setup regards tom lane exmh users mailing list exmh users com users', 'contractor com cy tue jul return path delivered yyyy netnoteinc com received localhost localhost phobos labs netnoteinc com postfix esmtp id bbb e cc tue jul edt received dogma slashnull org localhost imap fetchmail jm single drop tue jul ist received mandark labs netnoteinc com dogma slashnull org esmtp id g nmwa tue jul received post unedcol cefetes br mandark labs netnoteinc com esmtp id g nmvmp tue jul received main gate pl post unedcol cefetes br smtp microsoft exchange internet mail service version id p k nj mon jul message id e ce afd gate pl e business services subject qualified potential clients industry date mon jul mime version x mailer microsoft outlook express content type text html charset iso content transfer encoding quoted printable online marketing strategies need clients increase sales every month targeted e mail marketing proven method return sales database million targeted addresses reach potential clients anywhere world staff creates interactive ad campaigns spec ifically targeted client base designed produce staggering responses business steady lead source make sure sales team consistently close deals g reatest return marketing dollar targeted e mail marketing effective way reach global local markets small expense compared conventi onal marketing quality work dedicated professional staff ensure ad campai gn successful put educated team marketers work fill form low speak one marketing specialists required input field name web address company name state business phone home phone email address type business removed please click']\n"
     ]
    }
   ],
   "source": [
    "from bs4 import BeautifulSoup\n",
    "import re\n",
    "from nltk.tokenize import WordPunctTokenizer\n",
    "from nltk.corpus import stopwords\n",
    "\n",
    "tok = WordPunctTokenizer()\n",
    "pat1 = r'@[A-Za-z0-9]+'\n",
    "pat2 = r'https?://[A-Za-z0-9./]+'\n",
    "combined_pat = r'|'.join((pat1, pat2))\n",
    "\n",
    "def email_body_extractor(text):\n",
    "    # Use BeautifulSoup to parse HTML content\n",
    "    soup = BeautifulSoup(text, 'lxml')\n",
    "    # Extract the text content of the email\n",
    "    email_body = soup.get_text()\n",
    "    # Remove email addresses and URLs\n",
    "    stripped = re.sub(combined_pat, '', email_body)\n",
    "    try:\n",
    "        # Handle utf-8 encoding issues\n",
    "        clean = stripped.decode(\"utf-8-sig\").replace(u\"\\ufffd\", \"?\")\n",
    "    except:\n",
    "        clean = stripped\n",
    "    # Remove non-alphabetic characters\n",
    "    letters_only = re.sub(\"[^a-zA-Z]\", \" \", clean)\n",
    "    # Convert to lowercase\n",
    "    lower_case = letters_only.lower()\n",
    "    # Tokenize and remove stopwords\n",
    "    words = tok.tokenize(lower_case)\n",
    "    stop_words = set(stopwords.words('english'))\n",
    "    words = [word for word in words if word not in stop_words]\n",
    "    # Join the words back into a string\n",
    "    return (\" \".join(words)).strip()\n",
    "\n",
    "# Example usage with a dataset named 'df'\n",
    "# Replace 'df.text' with the actual column containing the email text in your dataset\n",
    "testing = df.text[:10]\n",
    "test_result = [email_body_extractor(t) for t in testing]\n",
    "print(test_result)"
   ]
  },
  {
   "cell_type": "code",
   "execution_count": 6,
   "id": "37f70840",
   "metadata": {},
   "outputs": [
    {
     "name": "stdout",
     "output_type": "stream",
     "text": [
      "Cleaning and parsing the tweets...\n",
      "\n",
      "Tweets 100 of 5795 has been processed\n",
      "Tweets 200 of 5795 has been processed\n",
      "Tweets 300 of 5795 has been processed\n",
      "Tweets 400 of 5795 has been processed\n",
      "Tweets 500 of 5795 has been processed\n",
      "Tweets 600 of 5795 has been processed\n",
      "Tweets 700 of 5795 has been processed\n",
      "Tweets 800 of 5795 has been processed\n",
      "Tweets 900 of 5795 has been processed\n",
      "Tweets 1000 of 5795 has been processed\n",
      "Tweets 1100 of 5795 has been processed\n",
      "Tweets 1200 of 5795 has been processed\n",
      "Tweets 1300 of 5795 has been processed\n",
      "Tweets 1400 of 5795 has been processed\n",
      "Tweets 1500 of 5795 has been processed\n",
      "Tweets 1600 of 5795 has been processed\n",
      "Tweets 1700 of 5795 has been processed\n",
      "Tweets 1800 of 5795 has been processed\n",
      "Tweets 1900 of 5795 has been processed\n",
      "Tweets 2000 of 5795 has been processed\n",
      "Tweets 2100 of 5795 has been processed\n",
      "Tweets 2200 of 5795 has been processed\n",
      "Tweets 2300 of 5795 has been processed\n",
      "Tweets 2400 of 5795 has been processed\n",
      "Tweets 2500 of 5795 has been processed\n",
      "Tweets 2600 of 5795 has been processed\n",
      "Tweets 2700 of 5795 has been processed\n",
      "Tweets 2800 of 5795 has been processed\n",
      "Tweets 2900 of 5795 has been processed\n",
      "Tweets 3000 of 5795 has been processed\n",
      "Tweets 3100 of 5795 has been processed\n",
      "Tweets 3200 of 5795 has been processed\n",
      "Tweets 3300 of 5795 has been processed\n",
      "Tweets 3400 of 5795 has been processed\n",
      "Tweets 3500 of 5795 has been processed\n",
      "Tweets 3600 of 5795 has been processed\n",
      "Tweets 3700 of 5795 has been processed\n",
      "Tweets 3800 of 5795 has been processed\n",
      "Tweets 3900 of 5795 has been processed\n",
      "Tweets 4000 of 5795 has been processed\n",
      "Tweets 4100 of 5795 has been processed\n",
      "Tweets 4200 of 5795 has been processed\n",
      "Tweets 4300 of 5795 has been processed\n",
      "Tweets 4400 of 5795 has been processed\n",
      "Tweets 4500 of 5795 has been processed\n",
      "Tweets 4600 of 5795 has been processed\n",
      "Tweets 4700 of 5795 has been processed\n",
      "Tweets 4800 of 5795 has been processed\n",
      "Tweets 4900 of 5795 has been processed\n",
      "Tweets 5000 of 5795 has been processed\n",
      "Tweets 5100 of 5795 has been processed\n",
      "Tweets 5200 of 5795 has been processed\n",
      "Tweets 5300 of 5795 has been processed\n",
      "Tweets 5400 of 5795 has been processed\n",
      "Tweets 5500 of 5795 has been processed\n",
      "Tweets 5600 of 5795 has been processed\n",
      "Tweets 5700 of 5795 has been processed\n"
     ]
    }
   ],
   "source": [
    "nums = [0,5795]\n",
    "print(\"Cleaning and parsing the tweets...\\n\")\n",
    "clean_tweet_texts = []\n",
    "for i in range(nums[0],nums[1]):\n",
    "    if( (i+1)%100 == 0 ):\n",
    "        print(\"Tweets %d of %d has been processed\" % ( i+1, nums[1] ))                                                                    \n",
    "    clean_tweet_texts.append(email_body_extractor(df['text'][i]))"
   ]
  },
  {
   "cell_type": "code",
   "execution_count": 7,
   "id": "0c8fcec5",
   "metadata": {},
   "outputs": [
    {
     "data": {
      "text/html": [
       "<div>\n",
       "<style scoped>\n",
       "    .dataframe tbody tr th:only-of-type {\n",
       "        vertical-align: middle;\n",
       "    }\n",
       "\n",
       "    .dataframe tbody tr th {\n",
       "        vertical-align: top;\n",
       "    }\n",
       "\n",
       "    .dataframe thead th {\n",
       "        text-align: right;\n",
       "    }\n",
       "</style>\n",
       "<table border=\"1\" class=\"dataframe\">\n",
       "  <thead>\n",
       "    <tr style=\"text-align: right;\">\n",
       "      <th></th>\n",
       "      <th>text</th>\n",
       "      <th>label</th>\n",
       "    </tr>\n",
       "  </thead>\n",
       "  <tbody>\n",
       "    <tr>\n",
       "      <th>0</th>\n",
       "      <td>ilug admin ie mon jul return path delivered yy...</td>\n",
       "      <td>0</td>\n",
       "    </tr>\n",
       "    <tr>\n",
       "      <th>1</th>\n",
       "      <td>gort com mon jun return path gort com delivery...</td>\n",
       "      <td>1</td>\n",
       "    </tr>\n",
       "    <tr>\n",
       "      <th>2</th>\n",
       "      <td>fork admin com mon jul return path delivered y...</td>\n",
       "      <td>1</td>\n",
       "    </tr>\n",
       "    <tr>\n",
       "      <th>3</th>\n",
       "      <td>dcm net cn mon jun return path dcm net cn deli...</td>\n",
       "      <td>1</td>\n",
       "    </tr>\n",
       "    <tr>\n",
       "      <th>4</th>\n",
       "      <td>ilug admin ie mon aug return path delivered yy...</td>\n",
       "      <td>0</td>\n",
       "    </tr>\n",
       "  </tbody>\n",
       "</table>\n",
       "</div>"
      ],
      "text/plain": [
       "                                                text  label\n",
       "0  ilug admin ie mon jul return path delivered yy...      0\n",
       "1  gort com mon jun return path gort com delivery...      1\n",
       "2  fork admin com mon jul return path delivered y...      1\n",
       "3  dcm net cn mon jun return path dcm net cn deli...      1\n",
       "4  ilug admin ie mon aug return path delivered yy...      0"
      ]
     },
     "execution_count": 7,
     "metadata": {},
     "output_type": "execute_result"
    }
   ],
   "source": [
    "clean_df = pd.DataFrame(clean_tweet_texts,columns=['text'])\n",
    "clean_df['label'] = df.target\n",
    "clean_df.head()"
   ]
  },
  {
   "cell_type": "code",
   "execution_count": 8,
   "id": "2788a511",
   "metadata": {},
   "outputs": [],
   "source": [
    "clean_df.to_csv('email_classification.csv',encoding='utf-8')\n",
    "#df = pd.read_csv('dataset.csv', encoding='latin-1', header=None, names=cols)\n",
    "df = pd.read_csv('email_classification.csv')"
   ]
  },
  {
   "cell_type": "code",
   "execution_count": 9,
   "id": "a7dbce59",
   "metadata": {},
   "outputs": [
    {
     "data": {
      "text/html": [
       "<div>\n",
       "<style scoped>\n",
       "    .dataframe tbody tr th:only-of-type {\n",
       "        vertical-align: middle;\n",
       "    }\n",
       "\n",
       "    .dataframe tbody tr th {\n",
       "        vertical-align: top;\n",
       "    }\n",
       "\n",
       "    .dataframe thead th {\n",
       "        text-align: right;\n",
       "    }\n",
       "</style>\n",
       "<table border=\"1\" class=\"dataframe\">\n",
       "  <thead>\n",
       "    <tr style=\"text-align: right;\">\n",
       "      <th></th>\n",
       "      <th>Unnamed: 0</th>\n",
       "      <th>text</th>\n",
       "      <th>label</th>\n",
       "    </tr>\n",
       "  </thead>\n",
       "  <tbody>\n",
       "    <tr>\n",
       "      <th>0</th>\n",
       "      <td>0</td>\n",
       "      <td>ilug admin ie mon jul return path delivered yy...</td>\n",
       "      <td>0</td>\n",
       "    </tr>\n",
       "    <tr>\n",
       "      <th>1</th>\n",
       "      <td>1</td>\n",
       "      <td>gort com mon jun return path gort com delivery...</td>\n",
       "      <td>1</td>\n",
       "    </tr>\n",
       "    <tr>\n",
       "      <th>2</th>\n",
       "      <td>2</td>\n",
       "      <td>fork admin com mon jul return path delivered y...</td>\n",
       "      <td>1</td>\n",
       "    </tr>\n",
       "    <tr>\n",
       "      <th>3</th>\n",
       "      <td>3</td>\n",
       "      <td>dcm net cn mon jun return path dcm net cn deli...</td>\n",
       "      <td>1</td>\n",
       "    </tr>\n",
       "    <tr>\n",
       "      <th>4</th>\n",
       "      <td>4</td>\n",
       "      <td>ilug admin ie mon aug return path delivered yy...</td>\n",
       "      <td>0</td>\n",
       "    </tr>\n",
       "  </tbody>\n",
       "</table>\n",
       "</div>"
      ],
      "text/plain": [
       "   Unnamed: 0                                               text  label\n",
       "0           0  ilug admin ie mon jul return path delivered yy...      0\n",
       "1           1  gort com mon jun return path gort com delivery...      1\n",
       "2           2  fork admin com mon jul return path delivered y...      1\n",
       "3           3  dcm net cn mon jun return path dcm net cn deli...      1\n",
       "4           4  ilug admin ie mon aug return path delivered yy...      0"
      ]
     },
     "execution_count": 9,
     "metadata": {},
     "output_type": "execute_result"
    }
   ],
   "source": [
    "df.head()"
   ]
  },
  {
   "cell_type": "code",
   "execution_count": 10,
   "id": "145cddbc",
   "metadata": {},
   "outputs": [
    {
     "name": "stdout",
     "output_type": "stream",
     "text": [
      "Original DataFrame:\n",
      "      Unnamed: 0                                               text  label\n",
      "0              0  ilug admin ie mon jul return path delivered yy...      0\n",
      "1              1  gort com mon jun return path gort com delivery...      1\n",
      "2              2  fork admin com mon jul return path delivered y...      1\n",
      "3              3  dcm net cn mon jun return path dcm net cn deli...      1\n",
      "4              4  ilug admin ie mon aug return path delivered yy...      0\n",
      "...          ...                                                ...    ...\n",
      "5790        5790  crackmice admin com thu sep return path delive...      1\n",
      "5791        5791  ilug admin ie mon jul return path delivered yy...      0\n",
      "5792        5792  fork admin com mon oct return path delivered y...      0\n",
      "5793        5793  received hq pro ns net localhost hq pro ns net...      1\n",
      "5794        5794  razor users admin sourceforge net thu sep retu...      0\n",
      "\n",
      "[5795 rows x 3 columns]\n",
      "\n",
      "DataFrame after dropping unnamed columns:\n",
      "                                                   text  label\n",
      "0     ilug admin ie mon jul return path delivered yy...      0\n",
      "1     gort com mon jun return path gort com delivery...      1\n",
      "2     fork admin com mon jul return path delivered y...      1\n",
      "3     dcm net cn mon jun return path dcm net cn deli...      1\n",
      "4     ilug admin ie mon aug return path delivered yy...      0\n",
      "...                                                 ...    ...\n",
      "5790  crackmice admin com thu sep return path delive...      1\n",
      "5791  ilug admin ie mon jul return path delivered yy...      0\n",
      "5792  fork admin com mon oct return path delivered y...      0\n",
      "5793  received hq pro ns net localhost hq pro ns net...      1\n",
      "5794  razor users admin sourceforge net thu sep retu...      0\n",
      "\n",
      "[5795 rows x 2 columns]\n"
     ]
    }
   ],
   "source": [
    "import pandas as pd\n",
    "\n",
    "# Assuming 'your_file.csv' is your CSV file with unnamed columns\n",
    "df = pd.read_csv('email_classification.csv')\n",
    "\n",
    "# Display the original DataFrame\n",
    "print(\"Original DataFrame:\")\n",
    "print(df)\n",
    "\n",
    "# Find and drop unnamed columns\n",
    "unnamed_columns = [col for col in df.columns if 'Unnamed' in col]\n",
    "df = df.drop(columns=unnamed_columns, errors='ignore')\n",
    "\n",
    "# Display the DataFrame after dropping unnamed columns\n",
    "print(\"\\nDataFrame after dropping unnamed columns:\")\n",
    "print(df)\n",
    "\n",
    "# Now you can save the modified DataFrame back to a CSV file if needed\n",
    "# df.to_csv('modified_file.csv', index=False)\n"
   ]
  },
  {
   "cell_type": "code",
   "execution_count": 11,
   "id": "7cc9b44e",
   "metadata": {},
   "outputs": [
    {
     "name": "stdout",
     "output_type": "stream",
     "text": [
      "Original DataFrame:\n",
      "      Unnamed: 0                                               text  label\n",
      "0              0  ilug admin ie mon jul return path delivered yy...      0\n",
      "1              1  gort com mon jun return path gort com delivery...      1\n",
      "2              2  fork admin com mon jul return path delivered y...      1\n",
      "3              3  dcm net cn mon jun return path dcm net cn deli...      1\n",
      "4              4  ilug admin ie mon aug return path delivered yy...      0\n",
      "...          ...                                                ...    ...\n",
      "5790        5790  crackmice admin com thu sep return path delive...      1\n",
      "5791        5791  ilug admin ie mon jul return path delivered yy...      0\n",
      "5792        5792  fork admin com mon oct return path delivered y...      0\n",
      "5793        5793  received hq pro ns net localhost hq pro ns net...      1\n",
      "5794        5794  razor users admin sourceforge net thu sep retu...      0\n",
      "\n",
      "[5795 rows x 3 columns]\n",
      "\n",
      "DataFrame after dropping unnamed columns:\n",
      "                                                   text  label\n",
      "0     ilug admin ie mon jul return path delivered yy...      0\n",
      "1     gort com mon jun return path gort com delivery...      1\n",
      "2     fork admin com mon jul return path delivered y...      1\n",
      "3     dcm net cn mon jun return path dcm net cn deli...      1\n",
      "4     ilug admin ie mon aug return path delivered yy...      0\n",
      "...                                                 ...    ...\n",
      "5790  crackmice admin com thu sep return path delive...      1\n",
      "5791  ilug admin ie mon jul return path delivered yy...      0\n",
      "5792  fork admin com mon oct return path delivered y...      0\n",
      "5793  received hq pro ns net localhost hq pro ns net...      1\n",
      "5794  razor users admin sourceforge net thu sep retu...      0\n",
      "\n",
      "[5795 rows x 2 columns]\n",
      "\n",
      "Modified DataFrame saved to email_classification1.csv\n"
     ]
    }
   ],
   "source": [
    "import pandas as pd\n",
    "\n",
    "# Assuming 'your_file.csv' is your CSV file with unnamed columns\n",
    "input_file = 'email_classification.csv'\n",
    "output_file = 'email_classification1.csv'\n",
    "\n",
    "# Read the CSV file into a DataFrame\n",
    "df = pd.read_csv(input_file)\n",
    "\n",
    "# Display the original DataFrame\n",
    "print(\"Original DataFrame:\")\n",
    "print(df)\n",
    "\n",
    "# Find and drop unnamed columns\n",
    "unnamed_columns = [col for col in df.columns if 'Unnamed' in col]\n",
    "df = df.drop(columns=unnamed_columns, errors='ignore')\n",
    "\n",
    "# Display the DataFrame after dropping unnamed columns\n",
    "print(\"\\nDataFrame after dropping unnamed columns:\")\n",
    "print(df)\n",
    "\n",
    "# Save the modified DataFrame to a new CSV file\n",
    "df.to_csv(output_file, index=False)\n",
    "\n",
    "print(f\"\\nModified DataFrame saved to {output_file}\")\n"
   ]
  },
  {
   "cell_type": "code",
   "execution_count": 12,
   "id": "566f3e50",
   "metadata": {},
   "outputs": [],
   "source": [
    "df = pd.read_csv('email_classification1.csv')"
   ]
  },
  {
   "cell_type": "code",
   "execution_count": 13,
   "id": "77a03b5c",
   "metadata": {},
   "outputs": [
    {
     "data": {
      "text/html": [
       "<div>\n",
       "<style scoped>\n",
       "    .dataframe tbody tr th:only-of-type {\n",
       "        vertical-align: middle;\n",
       "    }\n",
       "\n",
       "    .dataframe tbody tr th {\n",
       "        vertical-align: top;\n",
       "    }\n",
       "\n",
       "    .dataframe thead th {\n",
       "        text-align: right;\n",
       "    }\n",
       "</style>\n",
       "<table border=\"1\" class=\"dataframe\">\n",
       "  <thead>\n",
       "    <tr style=\"text-align: right;\">\n",
       "      <th></th>\n",
       "      <th>text</th>\n",
       "      <th>label</th>\n",
       "    </tr>\n",
       "  </thead>\n",
       "  <tbody>\n",
       "    <tr>\n",
       "      <th>0</th>\n",
       "      <td>ilug admin ie mon jul return path delivered yy...</td>\n",
       "      <td>0</td>\n",
       "    </tr>\n",
       "    <tr>\n",
       "      <th>1</th>\n",
       "      <td>gort com mon jun return path gort com delivery...</td>\n",
       "      <td>1</td>\n",
       "    </tr>\n",
       "    <tr>\n",
       "      <th>2</th>\n",
       "      <td>fork admin com mon jul return path delivered y...</td>\n",
       "      <td>1</td>\n",
       "    </tr>\n",
       "    <tr>\n",
       "      <th>3</th>\n",
       "      <td>dcm net cn mon jun return path dcm net cn deli...</td>\n",
       "      <td>1</td>\n",
       "    </tr>\n",
       "    <tr>\n",
       "      <th>4</th>\n",
       "      <td>ilug admin ie mon aug return path delivered yy...</td>\n",
       "      <td>0</td>\n",
       "    </tr>\n",
       "  </tbody>\n",
       "</table>\n",
       "</div>"
      ],
      "text/plain": [
       "                                                text  label\n",
       "0  ilug admin ie mon jul return path delivered yy...      0\n",
       "1  gort com mon jun return path gort com delivery...      1\n",
       "2  fork admin com mon jul return path delivered y...      1\n",
       "3  dcm net cn mon jun return path dcm net cn deli...      1\n",
       "4  ilug admin ie mon aug return path delivered yy...      0"
      ]
     },
     "execution_count": 13,
     "metadata": {},
     "output_type": "execute_result"
    }
   ],
   "source": [
    "df.head()"
   ]
  },
  {
   "cell_type": "code",
   "execution_count": 14,
   "id": "6453feb7",
   "metadata": {},
   "outputs": [
    {
     "data": {
      "text/plain": [
       "label\n",
       "0    3899\n",
       "1    1896\n",
       "Name: count, dtype: int64"
      ]
     },
     "execution_count": 14,
     "metadata": {},
     "output_type": "execute_result"
    }
   ],
   "source": [
    "df.label.value_counts()"
   ]
  },
  {
   "cell_type": "code",
   "execution_count": 15,
   "id": "aa8d9eb5",
   "metadata": {},
   "outputs": [],
   "source": [
    "import pandas as pd\n",
    "\n",
    "# Load your CSV file into a DataFrame\n",
    "df = pd.read_csv('email_classification1.csv')\n",
    "\n",
    "# Assuming your DataFrame has a 'class' column indicating the class for each data point\n",
    "# You can adjust the column name based on your actual dataset structure\n",
    "classes = df['label'].unique()\n",
    "\n",
    "# Set the desired number of samples per class\n",
    "samples_per_class = 1896  # Adjust this value based on your requirements\n",
    "\n",
    "# Create an empty DataFrame to store the selected data\n",
    "selected_data = pd.DataFrame()\n",
    "\n",
    "# Iterate through each class and select the desired number of samples\n",
    "for class_label in classes:\n",
    "    # Filter the DataFrame to include only rows with the current class\n",
    "    class_data = df[df['label'] == class_label].sample(samples_per_class, random_state=42)\n",
    "    \n",
    "    # Append the selected data to the new DataFrame\n",
    "    selected_data = selected_data._append(class_data)\n",
    "\n",
    "# Save the selected data to a new CSV file\n",
    "selected_data.to_csv('email_classification2.csv', index=False)"
   ]
  },
  {
   "cell_type": "code",
   "execution_count": 16,
   "id": "aa393c51",
   "metadata": {},
   "outputs": [
    {
     "data": {
      "text/plain": [
       "label\n",
       "0    1896\n",
       "1    1896\n",
       "Name: count, dtype: int64"
      ]
     },
     "execution_count": 16,
     "metadata": {},
     "output_type": "execute_result"
    }
   ],
   "source": [
    "df = pd.read_csv('email_classification2.csv')\n",
    "df.label.value_counts()"
   ]
  },
  {
   "cell_type": "code",
   "execution_count": null,
   "id": "92672efa",
   "metadata": {},
   "outputs": [],
   "source": []
  }
 ],
 "metadata": {
  "kernelspec": {
   "display_name": "Python 3 (ipykernel)",
   "language": "python",
   "name": "python3"
  },
  "language_info": {
   "codemirror_mode": {
    "name": "ipython",
    "version": 3
   },
   "file_extension": ".py",
   "mimetype": "text/x-python",
   "name": "python",
   "nbconvert_exporter": "python",
   "pygments_lexer": "ipython3",
   "version": "3.11.4"
  }
 },
 "nbformat": 4,
 "nbformat_minor": 5
}
