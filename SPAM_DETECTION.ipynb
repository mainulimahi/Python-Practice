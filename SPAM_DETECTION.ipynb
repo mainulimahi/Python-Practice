{
  "cells": [
    {
      "cell_type": "markdown",
      "id": "236854c9",
      "metadata": {
        "id": "236854c9"
      },
      "source": [
        "# **1. Import Libraries**"
      ]
    },
    {
      "cell_type": "code",
      "execution_count": null,
      "id": "b877c893",
      "metadata": {
        "id": "b877c893"
      },
      "outputs": [],
      "source": [
        "import pandas as pd\n",
        "import numpy as np\n",
        "import seaborn as sns\n",
        "import matplotlib.pyplot as plt\n",
        "from sklearn.model_selection import train_test_split\n",
        "from sklearn.feature_extraction.text import CountVectorizer\n",
        "from sklearn.naive_bayes import MultinomialNB\n",
        "from sklearn.tree import DecisionTreeClassifier\n",
        "from sklearn.svm import SVC\n",
        "from sklearn.metrics import f1_score, recall_score, precision_score, accuracy_score\n",
        "from sklearn.feature_extraction.text import ENGLISH_STOP_WORDS\n",
        "from sklearn.feature_extraction.text import TfidfTransformer\n",
        "from sklearn.pipeline import Pipeline\n",
        "from sklearn.model_selection import cross_val_score\n",
        "from sklearn.metrics import confusion_matrix\n",
        "import re\n",
        "import string\n",
        "from nltk.corpus import stopwords\n",
        "import warnings\n",
        "warnings.filterwarnings('ignore')\n",
        "from sklearn.pipeline import make_pipeline"
      ]
    },
    {
      "cell_type": "markdown",
      "id": "398e2eb4",
      "metadata": {
        "id": "398e2eb4"
      },
      "source": [
        "# **2. Import Dataset**"
      ]
    },
    {
      "cell_type": "code",
      "execution_count": null,
      "id": "42841c29",
      "metadata": {
        "id": "42841c29"
      },
      "outputs": [],
      "source": [
        "df = pd.read_csv('email_classification2.csv')"
      ]
    },
    {
      "cell_type": "code",
      "execution_count": null,
      "id": "7cc1feb5",
      "metadata": {
        "colab": {
          "base_uri": "https://localhost:8080/"
        },
        "id": "7cc1feb5",
        "outputId": "55836637-f645-4a7a-ed23-7fe9cc93a6e6"
      },
      "outputs": [
        {
          "output_type": "execute_result",
          "data": {
            "text/plain": [
              "0    1896\n",
              "1    1896\n",
              "Name: label, dtype: int64"
            ]
          },
          "metadata": {},
          "execution_count": 3
        }
      ],
      "source": [
        "df.label.value_counts()"
      ]
    },
    {
      "cell_type": "code",
      "execution_count": null,
      "id": "e72a5518",
      "metadata": {
        "id": "e72a5518"
      },
      "outputs": [],
      "source": [
        "df['text'] = df['text'].values.astype('U')\n",
        "df['label'] = df['label'].astype('int').values"
      ]
    },
    {
      "cell_type": "markdown",
      "id": "7d577cc5",
      "metadata": {
        "id": "7d577cc5"
      },
      "source": [
        "# **3. Split the dataset into training and testing sets**"
      ]
    },
    {
      "cell_type": "code",
      "execution_count": null,
      "id": "4dc7e731",
      "metadata": {
        "id": "4dc7e731"
      },
      "outputs": [],
      "source": [
        "train_data, test_data, train_labels, test_labels = train_test_split(df['text'], df['label'], test_size=0.1, random_state=42)"
      ]
    },
    {
      "cell_type": "code",
      "execution_count": null,
      "id": "c2a1b980",
      "metadata": {
        "colab": {
          "base_uri": "https://localhost:8080/"
        },
        "id": "c2a1b980",
        "outputId": "4f380893-5c49-4c1f-86da-362390f60e66"
      },
      "outputs": [
        {
          "output_type": "execute_result",
          "data": {
            "text/plain": [
              "1    1714\n",
              "0    1698\n",
              "Name: label, dtype: int64"
            ]
          },
          "metadata": {},
          "execution_count": 6
        }
      ],
      "source": [
        "train_labels.value_counts()"
      ]
    },
    {
      "cell_type": "code",
      "execution_count": null,
      "id": "8fd9075f",
      "metadata": {
        "colab": {
          "base_uri": "https://localhost:8080/"
        },
        "id": "8fd9075f",
        "outputId": "b6a9f185-f3c9-4562-d116-fa0de14aca69"
      },
      "outputs": [
        {
          "output_type": "execute_result",
          "data": {
            "text/plain": [
              "0    198\n",
              "1    182\n",
              "Name: label, dtype: int64"
            ]
          },
          "metadata": {},
          "execution_count": 7
        }
      ],
      "source": [
        "test_labels.value_counts()"
      ]
    },
    {
      "cell_type": "markdown",
      "id": "45b738d2",
      "metadata": {
        "id": "45b738d2"
      },
      "source": [
        "# **4. Feature Extraction**"
      ]
    },
    {
      "cell_type": "code",
      "execution_count": null,
      "id": "87972c43",
      "metadata": {
        "id": "87972c43"
      },
      "outputs": [],
      "source": [
        "vectorizer = CountVectorizer()\n",
        "X_train_bow = vectorizer.fit_transform(train_data)\n",
        "X_test_bow = vectorizer.transform(test_data)"
      ]
    },
    {
      "cell_type": "markdown",
      "id": "c4664481",
      "metadata": {
        "id": "c4664481"
      },
      "source": [
        "# **5. Implementation of spam email detection**"
      ]
    },
    {
      "cell_type": "code",
      "execution_count": null,
      "id": "d17cd618",
      "metadata": {
        "colab": {
          "base_uri": "https://localhost:8080/"
        },
        "id": "d17cd618",
        "outputId": "63350ff3-e842-499f-a95d-c15b1a2f8863"
      },
      "outputs": [
        {
          "output_type": "execute_result",
          "data": {
            "text/plain": [
              "0.968421052631579"
            ]
          },
          "metadata": {},
          "execution_count": 9
        }
      ],
      "source": [
        "# Naive Bayes\n",
        "nb_classifier = MultinomialNB(alpha=17)\n",
        "nb_classifier.fit(X_train_bow, train_labels)\n",
        "nb_predictions = nb_classifier.predict(X_test_bow)\n",
        "accuracy = accuracy_score(test_labels, nb_predictions)\n",
        "accuracy"
      ]
    },
    {
      "cell_type": "code",
      "execution_count": null,
      "id": "ea588ffe",
      "metadata": {
        "colab": {
          "base_uri": "https://localhost:8080/"
        },
        "id": "ea588ffe",
        "outputId": "9b9c7212-b6a7-4f5c-af1d-4acc2f752443"
      },
      "outputs": [
        {
          "output_type": "stream",
          "name": "stdout",
          "text": [
            "Accuracy: 0.9789473684210527\n"
          ]
        }
      ],
      "source": [
        "# Decision Tree Classifier\n",
        "dt_classifier = DecisionTreeClassifier(random_state=42)\n",
        "dt_classifier.fit(X_train_bow, train_labels)\n",
        "dt_predictions = dt_classifier.predict(X_test_bow)\n",
        "\n",
        "# Calculate accuracy\n",
        "accuracy = accuracy_score(test_labels, dt_predictions)\n",
        "print(f\"Accuracy: {accuracy}\")"
      ]
    },
    {
      "cell_type": "code",
      "execution_count": null,
      "id": "30173721",
      "metadata": {
        "colab": {
          "base_uri": "https://localhost:8080/"
        },
        "id": "30173721",
        "outputId": "cbbd9d39-e666-41db-c667-63859a670a9f"
      },
      "outputs": [
        {
          "output_type": "stream",
          "name": "stdout",
          "text": [
            "Accuracy: 1.0\n"
          ]
        }
      ],
      "source": [
        "# Support Vector Machine (SVM) Classifier\n",
        "svm_classifier = SVC(kernel='linear')\n",
        "svm_classifier.fit(X_train_bow, train_labels)\n",
        "svm_predictions = svm_classifier.predict(X_test_bow)\n",
        "\n",
        "# Calculate accuracy\n",
        "accuracy = accuracy_score(test_labels, svm_predictions)\n",
        "print(f\"Accuracy: {accuracy}\")"
      ]
    },
    {
      "cell_type": "markdown",
      "id": "63d8d3d5",
      "metadata": {
        "id": "63d8d3d5"
      },
      "source": [
        "# **6. Evaluation**"
      ]
    },
    {
      "cell_type": "code",
      "execution_count": null,
      "id": "1fdda3ae",
      "metadata": {
        "id": "1fdda3ae"
      },
      "outputs": [],
      "source": [
        "# Evaluate Naive Bayes\n",
        "nb_f1 = f1_score(test_labels, nb_predictions, average='weighted')\n",
        "nb_recall = recall_score(test_labels, nb_predictions, average='weighted')\n",
        "nb_precision = precision_score(test_labels, nb_predictions, average='weighted')"
      ]
    },
    {
      "cell_type": "code",
      "execution_count": null,
      "id": "cf980f39",
      "metadata": {
        "id": "cf980f39"
      },
      "outputs": [],
      "source": [
        "# Evaluate Decision Tree\n",
        "dt_f1 = f1_score(test_labels, dt_predictions, average='weighted')\n",
        "dt_recall = recall_score(test_labels, dt_predictions, average='weighted')\n",
        "dt_precision = precision_score(test_labels, dt_predictions, average='weighted')"
      ]
    },
    {
      "cell_type": "code",
      "execution_count": null,
      "id": "581d019b",
      "metadata": {
        "id": "581d019b"
      },
      "outputs": [],
      "source": [
        "# Evaluate SVM\n",
        "svm_accuracy = accuracy_score(test_labels, svm_predictions)\n",
        "svm_f1 = f1_score(test_labels, svm_predictions, average='weighted')\n",
        "svm_recall = recall_score(test_labels, svm_predictions, average='weighted')\n",
        "svm_precision = precision_score(test_labels, svm_predictions, average='weighted')"
      ]
    },
    {
      "cell_type": "code",
      "execution_count": null,
      "id": "ce41c87c",
      "metadata": {
        "colab": {
          "base_uri": "https://localhost:8080/"
        },
        "id": "ce41c87c",
        "outputId": "96881bf7-fd78-43e7-b440-89f6e558d4a3"
      },
      "outputs": [
        {
          "output_type": "stream",
          "name": "stdout",
          "text": [
            "Naive Bayes Metrics:\n",
            "F1-Score: 0.968347171404447\n",
            "Recall: 0.968421052631579\n",
            "Precision: 0.9702255639097745\n",
            "\n",
            "Decision Tree Metrics:\n",
            "F1-Score: 0.9789543735114183\n",
            "Recall: 0.9789473684210527\n",
            "Precision: 0.9791784082754275\n",
            "\n",
            "Support Vector Machine (SVM) Metrics:\n",
            "F1-Score: 1.0\n",
            "Recall: 1.0\n",
            "Precision: 1.0\n"
          ]
        }
      ],
      "source": [
        "# Print or store the evaluation metrics\n",
        "print(\"Naive Bayes Metrics:\")\n",
        "print(\"F1-Score:\", nb_f1)\n",
        "print(\"Recall:\", nb_recall)\n",
        "print(\"Precision:\", nb_precision)\n",
        "\n",
        "# Print or store the evaluation metrics\n",
        "print(\"\\nDecision Tree Metrics:\")\n",
        "print(\"F1-Score:\", dt_f1)\n",
        "print(\"Recall:\", dt_recall)\n",
        "print(\"Precision:\", dt_precision)\n",
        "\n",
        "# Print or store the evaluation metrics\n",
        "print(\"\\nSupport Vector Machine (SVM) Metrics:\")\n",
        "print(\"F1-Score:\", svm_f1)\n",
        "print(\"Recall:\", svm_recall)\n",
        "print(\"Precision:\", svm_precision)"
      ]
    },
    {
      "cell_type": "markdown",
      "source": [
        "# **7. Applying 10 fold cross validation**"
      ],
      "metadata": {
        "id": "pPjHUIpFX_FT"
      },
      "id": "pPjHUIpFX_FT"
    },
    {
      "cell_type": "code",
      "source": [
        "#nb_classifier\n",
        "pipeline = make_pipeline(vectorizer, nb_classifier)\n",
        "\n",
        "cv_scores = cross_val_score(pipeline, df['text'], df['label'], cv=10, scoring='accuracy')\n",
        "\n",
        "print(\"NB Cross-Validation Scores:\", cv_scores)\n",
        "print(\"Mean Accuracy:\", cv_scores.mean())"
      ],
      "metadata": {
        "colab": {
          "base_uri": "https://localhost:8080/"
        },
        "id": "QzG5Vg6tXxxm",
        "outputId": "6cc7a44a-296d-4c2d-b1c9-a43a36aff457"
      },
      "id": "QzG5Vg6tXxxm",
      "execution_count": null,
      "outputs": [
        {
          "output_type": "stream",
          "name": "stdout",
          "text": [
            "NB Cross-Validation Scores: [0.96315789 0.97105263 0.96306069 0.97361478 0.96833773 0.9762533\n",
            " 0.94986807 0.9525066  0.96042216 0.96833773]\n",
            "Mean Accuracy: 0.9646611581724759\n"
          ]
        }
      ]
    },
    {
      "cell_type": "code",
      "source": [
        "#dt_classifier\n",
        "pipeline = make_pipeline(vectorizer, dt_classifier)\n",
        "\n",
        "cv_scores = cross_val_score(pipeline, df['text'], df['label'], cv=10, scoring='accuracy')\n",
        "\n",
        "print(\"DT Cross-Validation Scores:\", cv_scores)\n",
        "print(\"Mean Accuracy:\", cv_scores.mean())"
      ],
      "metadata": {
        "colab": {
          "base_uri": "https://localhost:8080/"
        },
        "id": "QsYjN0_BX05B",
        "outputId": "fb62a139-1612-42bd-c253-7bb193eb978f"
      },
      "id": "QsYjN0_BX05B",
      "execution_count": null,
      "outputs": [
        {
          "output_type": "stream",
          "name": "stdout",
          "text": [
            "DT Cross-Validation Scores: [0.97631579 0.97105263 0.97097625 0.98680739 0.98680739 0.98416887\n",
            " 0.96833773 0.9762533  0.97889182 0.97097625]\n",
            "Mean Accuracy: 0.977058741841411\n"
          ]
        }
      ]
    },
    {
      "cell_type": "code",
      "source": [
        "#svm_classifier\n",
        "pipeline = make_pipeline(vectorizer, svm_classifier)\n",
        "\n",
        "cv_scores = cross_val_score(pipeline, df['text'], df['label'], cv=10, scoring='accuracy')\n",
        "\n",
        "print(\"SVM Cross-Validation Scores:\", cv_scores)\n",
        "print(\"Mean Accuracy:\", cv_scores.mean())"
      ],
      "metadata": {
        "colab": {
          "base_uri": "https://localhost:8080/"
        },
        "id": "qwOM45JcX0xg",
        "outputId": "33f87d9e-7c73-4ea4-b20f-ccee7bdbe37c"
      },
      "id": "qwOM45JcX0xg",
      "execution_count": null,
      "outputs": [
        {
          "output_type": "stream",
          "name": "stdout",
          "text": [
            "SVM Cross-Validation Scores: [0.99210526 0.99473684 0.99736148 1.         0.98944591 0.99736148\n",
            " 0.99472296 0.99736148 0.98680739 0.99208443]\n",
            "Mean Accuracy: 0.9941987223996668\n"
          ]
        }
      ]
    },
    {
      "cell_type": "code",
      "execution_count": null,
      "id": "a3fa0144",
      "metadata": {
        "scrolled": false,
        "colab": {
          "base_uri": "https://localhost:8080/",
          "height": 487
        },
        "id": "a3fa0144",
        "outputId": "90cd4366-3a51-4aa7-ef6a-58bf62d29633"
      },
      "outputs": [
        {
          "output_type": "display_data",
          "data": {
            "text/plain": [
              "<Figure size 500x500 with 1 Axes>"
            ],
            "image/png": "[encoded data removed]"
          },
          "metadata": {}
        }
      ],
      "source": [
        "def plot_confusion_matrix(y_true, y_pred, title):\n",
        "    cm = confusion_matrix(y_true, y_pred)\n",
        "    plt.figure(figsize=(5, 5))\n",
        "    sns.heatmap(cm, annot=True, fmt=\"d\", cmap=\"Blues\", cbar=False)\n",
        "    plt.title(title)\n",
        "    plt.xlabel('Predicted')\n",
        "    plt.ylabel('Actual')\n",
        "    plt.show()\n",
        "\n",
        "plot_confusion_matrix(test_labels, nb_predictions, 'Naive Bayes Confusion Matrix')"
      ]
    },
    {
      "cell_type": "code",
      "source": [
        "plot_confusion_matrix(test_labels, dt_predictions, 'Decision Tree Confusion Matrix')"
      ],
      "metadata": {
        "colab": {
          "base_uri": "https://localhost:8080/",
          "height": 487
        },
        "id": "Lq7NVwntZ-He",
        "outputId": "9d7b6ff7-12ce-4157-d35f-3b84ff42b9ec"
      },
      "id": "Lq7NVwntZ-He",
      "execution_count": null,
      "outputs": [
        {
          "output_type": "display_data",
          "data": {
            "text/plain": [
              "<Figure size 500x500 with 1 Axes>"
            ],
            "image/png": "[encoded data removed]"
          },
          "metadata": {}
        }
      ]
    },
    {
      "cell_type": "code",
      "source": [
        "plot_confusion_matrix(test_labels, svm_predictions, 'SVM Confusion Matrix')"
      ],
      "metadata": {
        "colab": {
          "base_uri": "https://localhost:8080/",
          "height": 487
        },
        "id": "QNELWflsYSM_",
        "outputId": "945f4056-4a8d-4996-9838-3968183333a8"
      },
      "id": "QNELWflsYSM_",
      "execution_count": null,
      "outputs": [
        {
          "output_type": "display_data",
          "data": {
            "text/plain": [
              "<Figure size 500x500 with 1 Axes>"
            ],
            "image/png": "[encoded data removed]"
          },
          "metadata": {}
        }
      ]
    },
    {
      "cell_type": "markdown",
      "source": [
        "# **8. Input/Output System**"
      ],
      "metadata": {
        "id": "9oR3tDe6aj-n"
      },
      "id": "9oR3tDe6aj-n"
    },
    {
      "cell_type": "code",
      "source": [
        "def classify_email(input_text):\n",
        "    input_text = [input_text]\n",
        "    input_bow = vectorizer.transform(input_text)\n",
        "    prediction = svm_classifier.predict(input_bow)\n",
        "    return prediction[0]\n",
        "\n",
        "user_input = input(\"Enter an email text: \")\n",
        "result = classify_email(user_input)\n",
        "\n",
        "if result == 1:\n",
        "    print(\"This email is classified as spam.\")\n",
        "else:\n",
        "    print(\"This email is not spam.\")"
      ],
      "metadata": {
        "colab": {
          "base_uri": "https://localhost:8080/"
        },
        "id": "jq4ipqeReRlB",
        "outputId": "62d00970-bad4-468c-aba9-b65a3f6bb802"
      },
      "id": "jq4ipqeReRlB",
      "execution_count": null,
      "outputs": [
        {
          "output_type": "stream",
          "name": "stdout",
          "text": [
            "Enter an email text: Wow. I never realized that you were so embarassed by your accomodations. I thought you liked it, since i was doing the best i could and you always seemed so happy about \"the cave\". I'm sorry I didn't and don't have more to give. I'm sorry i offered. I'm sorry your room was so embarassing.\n",
            "This email is classified as spam.\n"
          ]
        }
      ]
    },
    {
      "cell_type": "code",
      "source": [],
      "metadata": {
        "id": "5YpyabVrxuna"
      },
      "id": "5YpyabVrxuna",
      "execution_count": null,
      "outputs": []
    }
  ],
  "metadata": {
    "kernelspec": {
      "display_name": "Python 3 (ipykernel)",
      "language": "python",
      "name": "python3"
    },
    "language_info": {
      "codemirror_mode": {
        "name": "ipython",
        "version": 3
      },
      "file_extension": ".py",
      "mimetype": "text/x-python",
      "name": "python",
      "nbconvert_exporter": "python",
      "pygments_lexer": "ipython3",
      "version": "3.11.4"
    },
    "colab": {
      "provenance": []
    }
  },
  "nbformat": 4,
  "nbformat_minor": 5
}