{
  "nbformat": 4,
  "nbformat_minor": 0,
  "metadata": {
    "colab": {
      "provenance": [],
      "gpuType": "T4"
    },
    "kernelspec": {
      "name": "python3",
      "display_name": "Python 3"
    },
    "language_info": {
      "name": "python"
    }
  },
  "cells": [
    {
      "cell_type": "code",
      "source": [
        "import matplotlib.pyplot as plt\n",
        "import numpy as np\n",
        "import tensorflow as tf\n",
        "import tensorflow.keras.backend as K\n",
        "\n",
        "from sklearn.metrics import accuracy_score\n",
        "from tensorflow.keras import layers\n",
        "from tensorflow.keras import metrics\n",
        "#from tensorflow.keras.datasets import mnist\n",
        "from tensorflow.keras.models import Model"
      ],
      "metadata": {
        "id": "lbeEvdwT5R5q"
      },
      "execution_count": null,
      "outputs": []
    },
    {
      "cell_type": "code",
      "execution_count": null,
      "metadata": {
        "id": "wQokPjG_4OVs"
      },
      "outputs": [],
      "source": [
        "def preprocess(array):\n",
        "    \"\"\"\n",
        "    Normalizes the supplied array and reshapes it into the appropriate format.\n",
        "    \"\"\"\n",
        "\n",
        "    array = array.astype('float32') / 255.\n",
        "    array = np.reshape(array, (len(array), 100, 100, 1))  # Resize to 100x100 for chest images\n",
        "    return array\n"
      ]
    },
    {
      "cell_type": "code",
      "source": [
        "def display_pairs(images, labels, correct=None):\n",
        "    \"\"\"\n",
        "    Displays the first ten pairs from the supplied array.\n",
        "\n",
        "    Args:\n",
        "        - images: An array containing the pair of images.\n",
        "        - labels: An array containing the corresponding label (0 if both\n",
        "            pairs are different, and 1 if both pairs are the same.)\n",
        "        - correct (optional): An array of boolean values indicating whether\n",
        "            the supplied labels correctly represent the image pairs.\n",
        "    \"\"\"\n",
        "\n",
        "    n = 10\n",
        "\n",
        "    plt.figure(figsize=(20, 6))\n",
        "    for i, (image1, image2) in enumerate(zip(images[:n, 0], images[:n, 1])):\n",
        "        label = int(labels[:n][i][0])\n",
        "\n",
        "        text = \"Label\"\n",
        "        color = \"silver\"\n",
        "\n",
        "        # If we know whether the supplied labels are correct, let's change the\n",
        "        # text and the face color of the annotation on the chart.\n",
        "        if correct is not None:\n",
        "            text = \"Prediction\"\n",
        "            color = \"mediumseagreen\" if correct[:n][i][0] else \"indianred\"\n",
        "\n",
        "        ax = plt.subplot(3, n, i + 1)\n",
        "        ax.text(1, -3 ,f\"{text}: {label}\", style=\"italic\", bbox={\n",
        "            \"facecolor\": color,\n",
        "            \"pad\": 4\n",
        "        })\n",
        "\n",
        "        plt.imshow(image1.reshape(28, 28))\n",
        "        plt.gray()\n",
        "        ax.get_xaxis().set_visible(False)\n",
        "        ax.get_yaxis().set_visible(False)\n",
        "\n",
        "        ax = plt.subplot(3, n, i + 1 + n)\n",
        "        plt.imshow(image2.reshape(28, 28))\n",
        "        plt.gray()\n",
        "        ax.get_xaxis().set_visible(False)\n",
        "        ax.get_yaxis().set_visible(False)\n",
        "\n",
        "    plt.show()"
      ],
      "metadata": {
        "id": "-0xsdE_a5RMZ"
      },
      "execution_count": null,
      "outputs": []
    },
    {
      "cell_type": "code",
      "source": [
        "def plot_history(history):\n",
        "    \"\"\"\n",
        "    Plots the training and validation loss.\n",
        "    \"\"\"\n",
        "\n",
        "    plt.plot(history['loss'])\n",
        "    plt.plot(history['val_loss'])\n",
        "    plt.title('Training and Validation Loss')\n",
        "    plt.ylabel('loss')\n",
        "    plt.xlabel('epoch')\n",
        "    plt.legend(['train', 'val'], loc='upper right')\n",
        "    plt.show()"
      ],
      "metadata": {
        "id": "q1GX39Jj4p8V"
      },
      "execution_count": null,
      "outputs": []
    },
    {
      "cell_type": "code",
      "source": [
        "def generate_pairs(images, labels):\n",
        "    \"\"\"\n",
        "    Creates a collection of positive and negative image pairs from the supplied\n",
        "    array of images.\n",
        "\n",
        "    A positive pair contains two images of the same digit. A negative pair contains\n",
        "    two images representing different digits.\n",
        "    \"\"\"\n",
        "\n",
        "    x_pairs = []\n",
        "    y_pairs = []\n",
        "\n",
        "    for i in range(len(images)):\n",
        "        label = labels[i]\n",
        "\n",
        "        j = np.random.choice(np.where(labels == label)[0])\n",
        "        x_pairs.append([images[i], images[j]])\n",
        "        y_pairs.append([1])\n",
        "\n",
        "        k = np.random.choice(np.where(labels != label)[0])\n",
        "        x_pairs.append([images[i], images[k]])\n",
        "        y_pairs.append([0])\n",
        "\n",
        "    indices = np.arange(len(x_pairs))\n",
        "    np.random.shuffle(indices)\n",
        "\n",
        "    return np.array(x_pairs)[indices], np.array(y_pairs)[indices]"
      ],
      "metadata": {
        "id": "ih2VVAyX5NAR"
      },
      "execution_count": null,
      "outputs": []
    },
    {
      "cell_type": "code",
      "source": [
        "import os\n",
        "from tensorflow.keras.preprocessing.image import load_img, img_to_array\n",
        "\n",
        "# Load chest images\n",
        "def load_images_from_folder(folder):\n",
        "    images = []\n",
        "    for filename in os.listdir(folder):\n",
        "        img = load_img(os.path.join(folder, filename), target_size=(100, 100), color_mode='grayscale')\n",
        "        img_array = img_to_array(img)\n",
        "        images.append(img_array)\n",
        "    return np.array(images)\n",
        "\n",
        "TRAIN_DIR = '/content/drive/MyDrive/dataset/Train'\n",
        "VALIDATION_DIR = '/content/drive/MyDrive/dataset/Validation'\n",
        "TEST_DIR = '/content/drive/MyDrive/dataset/Test'\n",
        "\n",
        "covid_train = load_images_from_folder(os.path.join(TRAIN_DIR, 'covid'))\n",
        "normal_train = load_images_from_folder(os.path.join(TRAIN_DIR, 'normal'))\n",
        "pneumonia_train = load_images_from_folder(os.path.join(TRAIN_DIR, 'pneumonia'))\n",
        "tuberculosis_train = load_images_from_folder(os.path.join(TRAIN_DIR, 'tuberculosis'))\n",
        "lung_opacity_train = load_images_from_folder(os.path.join(TRAIN_DIR, 'lung_opacity'))\n",
        "\n",
        "covid_val = load_images_from_folder(os.path.join(VALIDATION_DIR, 'covid'))\n",
        "normal_val = load_images_from_folder(os.path.join(VALIDATION_DIR, 'normal'))\n",
        "pneumonia_val = load_images_from_folder(os.path.join(VALIDATION_DIR, 'pneumonia'))\n",
        "tuberculosis_val = load_images_from_folder(os.path.join(VALIDATION_DIR, 'tuberculosis'))\n",
        "lung_opacity_val = load_images_from_folder(os.path.join(VALIDATION_DIR, 'lung_opacity'))\n",
        "\n",
        "covid_test = load_images_from_folder(os.path.join(TEST_DIR, 'covid'))\n",
        "normal_test = load_images_from_folder(os.path.join(TEST_DIR, 'normal'))\n",
        "pneumonia_test = load_images_from_folder(os.path.join(TEST_DIR, 'pneumonia'))\n",
        "tuberculosis_test = load_images_from_folder(os.path.join(TEST_DIR, 'tuberculosis'))\n",
        "lung_opacity_test = load_images_from_folder(os.path.join(TEST_DIR, 'lung_opacity'))\n",
        "\n",
        "x_train = np.concatenate((covid_train, normal_train, pneumonia_train, tuberculosis_train, lung_opacity_train))\n",
        "y_train = np.concatenate((np.zeros(len(covid_train)), np.ones(len(normal_train)), np.ones(len(pneumonia_train))*2, np.ones(len(tuberculosis_train))*3, np.ones(len(lung_opacity_train))*4))\n",
        "\n",
        "x_val = np.concatenate((covid_val, normal_val, pneumonia_val, tuberculosis_val, lung_opacity_val))\n",
        "y_val = np.concatenate((np.zeros(len(covid_val)), np.ones(len(normal_val)), np.ones(len(pneumonia_val))*2, np.ones(len(tuberculosis_val))*3, np.ones(len(lung_opacity_val))*4))\n",
        "\n",
        "x_test = np.concatenate((covid_test, normal_test, pneumonia_test, tuberculosis_test, lung_opacity_test))\n",
        "y_test = np.concatenate((np.zeros(len(covid_test)), np.ones(len(normal_test)), np.ones(len(pneumonia_test))*2, np.ones(len(tuberculosis_test))*3, np.ones(len(lung_opacity_test))*4))\n",
        "\n",
        "x_train = preprocess(x_train)\n",
        "x_val = preprocess(x_val)\n",
        "x_test = preprocess(x_test)\n",
        "\n",
        "print(f\"Train: {len(x_train)}\")\n",
        "print(f\"Validation: {len(x_val)}\")\n",
        "print(f\"Test: {len(x_test)}\")\n"
      ],
      "metadata": {
        "id": "K1iVDiCRBDaC",
        "colab": {
          "base_uri": "https://localhost:8080/"
        },
        "outputId": "959e94ad-0597-4eaf-c62f-1e2ed8b8899c"
      },
      "execution_count": null,
      "outputs": [
        {
          "output_type": "stream",
          "name": "stdout",
          "text": [
            "Train: 500\n",
            "Validation: 500\n",
            "Test: 1000\n"
          ]
        }
      ]
    },
    {
      "cell_type": "code",
      "source": [
        "x_pairs_train, y_pairs_train = generate_pairs(x_train, y_train)\n",
        "x_pairs_val, y_pairs_val = generate_pairs(x_val, y_val)\n",
        "x_pairs_test, y_pairs_test = generate_pairs(x_test, y_test)"
      ],
      "metadata": {
        "id": "8NKZpHDtjvK8"
      },
      "execution_count": null,
      "outputs": []
    },
    {
      "cell_type": "code",
      "source": [
        "display_pairs(x_pairs_train, y_pairs_train)"
      ],
      "metadata": {
        "colab": {
          "base_uri": "https://localhost:8080/",
          "height": 869
        },
        "id": "-XE7WP6Djzv6",
        "outputId": "eaaab938-3dac-4397-a405-084126fe2ac8"
      },
      "execution_count": null,
      "outputs": [
        {
          "output_type": "error",
          "ename": "ValueError",
          "evalue": "ignored",
          "traceback": [
            "\u001b[0;31m---------------------------------------------------------------------------\u001b[0m",
            "\u001b[0;31mValueError\u001b[0m                                Traceback (most recent call last)",
            "\u001b[0;32m<ipython-input-15-730d1070c38e>\u001b[0m in \u001b[0;36m<cell line: 1>\u001b[0;34m()\u001b[0m\n\u001b[0;32m----> 1\u001b[0;31m \u001b[0mdisplay_pairs\u001b[0m\u001b[0;34m(\u001b[0m\u001b[0mx_pairs_train\u001b[0m\u001b[0;34m,\u001b[0m \u001b[0my_pairs_train\u001b[0m\u001b[0;34m)\u001b[0m\u001b[0;34m\u001b[0m\u001b[0;34m\u001b[0m\u001b[0m\n\u001b[0m",
            "\u001b[0;32m<ipython-input-3-ed6fd2da2131>\u001b[0m in \u001b[0;36mdisplay_pairs\u001b[0;34m(images, labels, correct)\u001b[0m\n\u001b[1;32m     32\u001b[0m         })\n\u001b[1;32m     33\u001b[0m \u001b[0;34m\u001b[0m\u001b[0m\n\u001b[0;32m---> 34\u001b[0;31m         \u001b[0mplt\u001b[0m\u001b[0;34m.\u001b[0m\u001b[0mimshow\u001b[0m\u001b[0;34m(\u001b[0m\u001b[0mimage1\u001b[0m\u001b[0;34m.\u001b[0m\u001b[0mreshape\u001b[0m\u001b[0;34m(\u001b[0m\u001b[0;36m28\u001b[0m\u001b[0;34m,\u001b[0m \u001b[0;36m28\u001b[0m\u001b[0;34m)\u001b[0m\u001b[0;34m)\u001b[0m\u001b[0;34m\u001b[0m\u001b[0;34m\u001b[0m\u001b[0m\n\u001b[0m\u001b[1;32m     35\u001b[0m         \u001b[0mplt\u001b[0m\u001b[0;34m.\u001b[0m\u001b[0mgray\u001b[0m\u001b[0;34m(\u001b[0m\u001b[0;34m)\u001b[0m\u001b[0;34m\u001b[0m\u001b[0;34m\u001b[0m\u001b[0m\n\u001b[1;32m     36\u001b[0m         \u001b[0max\u001b[0m\u001b[0;34m.\u001b[0m\u001b[0mget_xaxis\u001b[0m\u001b[0;34m(\u001b[0m\u001b[0;34m)\u001b[0m\u001b[0;34m.\u001b[0m\u001b[0mset_visible\u001b[0m\u001b[0;34m(\u001b[0m\u001b[0;32mFalse\u001b[0m\u001b[0;34m)\u001b[0m\u001b[0;34m\u001b[0m\u001b[0;34m\u001b[0m\u001b[0m\n",
            "\u001b[0;31mValueError\u001b[0m: cannot reshape array of size 10000 into shape (28,28)"
          ]
        },
        {
          "output_type": "display_data",
          "data": {
            "text/plain": [
              "<Figure size 2000x600 with 1 Axes>"
            ],
            "image/png": "[encoded data removed]"
          },
          "metadata": {}
        }
      ]
    },
    {
      "cell_type": "code",
      "source": [
        "def norm(features):\n",
        "    \"\"\"\n",
        "    Computes the euclidean norm of the two feature vectors generated\n",
        "    by the twins of the Siamese network.\n",
        "    \"\"\"\n",
        "    return tf.norm(features[0] - features[1], axis=1, keepdims=True)\n",
        "\n",
        "\n",
        "def accuracy(y_true, y_pred):\n",
        "    \"\"\"\n",
        "    Computes the accuracy of the predictions.\n",
        "    \"\"\"\n",
        "\n",
        "    # Notice that `y_true` is 0 whenever two images are not the same and 1\n",
        "    # otherwise, but `y_pred` is the opposite. The closer `y_pred` is to 0,\n",
        "    # the shorter the distance between both images, therefore the more likely\n",
        "    # it is that they are the same image. To correctly compute the accuracy we\n",
        "    # need to substract `y_pred` from 1 so both vectors are comparable.\n",
        "    return metrics.binary_accuracy(y_true, 1 - y_pred)\n",
        "\n",
        "\n",
        "def contrastive_loss(y_true, y_pred):\n",
        "    \"\"\"\n",
        "    Computes the contrastive loss introduced by Yann LeCun et al. in the paper\n",
        "    \"Dimensionality Reduction by Learning an Invariant Mapping,\" 2005.\n",
        "    \"\"\"\n",
        "\n",
        "    margin = 1\n",
        "    y_true = tf.cast(y_true, y_pred.dtype)\n",
        "\n",
        "    # The original formula proposed by Yann LeCunn et al. assumes that Y is 0\n",
        "    # if both images are similar and 1 otherwise. Our implementation (where Y is\n",
        "    # `y_true`) is the opposite, hence the modification to the formula below.\n",
        "    loss = y_true / 2 * K.square(y_pred) + (1 - y_true) / 2 \\\n",
        "                  * K.square(K.maximum(0.0, margin - y_pred))\n",
        "\n",
        "    return loss"
      ],
      "metadata": {
        "id": "UgClFmY9j7Rj"
      },
      "execution_count": null,
      "outputs": []
    },
    {
      "cell_type": "code",
      "source": [
        "def siamese_twin():\n",
        "    \"\"\"\n",
        "    Creates the subnetwork that represents each one of the twins of the\n",
        "    Siamese network.\n",
        "    \"\"\"\n",
        "\n",
        "    inputs = layers.Input((28, 28, 1))\n",
        "\n",
        "    x = layers.Conv2D(128, (2, 2), activation=\"relu\")(inputs)\n",
        "    x = layers.MaxPooling2D((2, 2))(x)\n",
        "    x = layers.Dropout(0.4)(x)\n",
        "\n",
        "    x = layers.Conv2D(128, (2, 2), activation=\"relu\")(x)\n",
        "    x = layers.MaxPooling2D((2, 2))(x)\n",
        "    x = layers.Dropout(0.4)(x)\n",
        "\n",
        "    x = layers.Conv2D(64, (2, 2), activation=\"relu\")(x)\n",
        "    x = layers.MaxPooling2D((2, 2))(x)\n",
        "    x = layers.Dropout(0.4)(x)\n",
        "\n",
        "    x = layers.GlobalAveragePooling2D()(x)\n",
        "\n",
        "    # We don't want any activation function on the final layer. This layer\n",
        "    # will contain the embedding for the input image.\n",
        "    outputs = layers.Dense(128, activation=None)(x)\n",
        "\n",
        "    return Model(inputs, outputs)\n",
        "\n",
        "\n",
        "def siamese_network():\n",
        "    \"\"\"\n",
        "    Creates the Siamese Network model.\n",
        "    \"\"\"\n",
        "\n",
        "    input1 = layers.Input(shape=(28, 28, 1))\n",
        "    input2 = layers.Input(shape=(28, 28, 1))\n",
        "\n",
        "    twin = siamese_twin()\n",
        "\n",
        "    # We can use a Lambda layer to compute the euclidean distance of the\n",
        "    # embeddings from each image.\n",
        "    distance = layers.Lambda(norm)([\n",
        "        twin(input1),\n",
        "        twin(input2)\n",
        "    ])\n",
        "\n",
        "    # Our model has two inputs: the first input is for the anchor image and\n",
        "    # the second input is for the second image of the pair. The output of the\n",
        "    # model is the euclidean distance between the embeddings from each image.\n",
        "    return Model(inputs=[input1, input2], outputs=distance)"
      ],
      "metadata": {
        "id": "rckcbTwlkA0I"
      },
      "execution_count": null,
      "outputs": []
    },
    {
      "cell_type": "code",
      "source": [
        "model = siamese_network()\n",
        "model.compile(\n",
        "    loss=contrastive_loss,\n",
        "    optimizer=\"adam\",\n",
        "    metrics=[accuracy]\n",
        ")\n",
        "\n",
        "model.summary()"
      ],
      "metadata": {
        "colab": {
          "base_uri": "https://localhost:8080/"
        },
        "id": "93yu2JD3kFs-",
        "outputId": "0b5d1be6-15ef-4ed3-f19f-b1ef70c54b99"
      },
      "execution_count": null,
      "outputs": [
        {
          "output_type": "stream",
          "name": "stdout",
          "text": [
            "Model: \"model_3\"\n",
            "__________________________________________________________________________________________________\n",
            " Layer (type)                Output Shape                 Param #   Connected to                  \n",
            "==================================================================================================\n",
            " input_4 (InputLayer)        [(None, 28, 28, 1)]          0         []                            \n",
            "                                                                                                  \n",
            " input_5 (InputLayer)        [(None, 28, 28, 1)]          0         []                            \n",
            "                                                                                                  \n",
            " model_2 (Functional)        (None, 128)                  107456    ['input_4[0][0]',             \n",
            "                                                                     'input_5[0][0]']             \n",
            "                                                                                                  \n",
            " lambda_1 (Lambda)           (None, 1)                    0         ['model_2[0][0]',             \n",
            "                                                                     'model_2[1][0]']             \n",
            "                                                                                                  \n",
            "==================================================================================================\n",
            "Total params: 107456 (419.75 KB)\n",
            "Trainable params: 107456 (419.75 KB)\n",
            "Non-trainable params: 0 (0.00 Byte)\n",
            "__________________________________________________________________________________________________\n"
          ]
        }
      ]
    },
    {
      "cell_type": "code",
      "source": [
        "history = model.fit(\n",
        "    x=[x_pairs_train[:, 0], x_pairs_train[:, 1]],\n",
        "    y=y_pairs_train[:],\n",
        "    validation_data=([x_pairs_val[:, 0], x_pairs_val[:, 1]], y_pairs_val[:]),\n",
        "    batch_size=64,\n",
        "    epochs=15\n",
        ")"
      ],
      "metadata": {
        "colab": {
          "base_uri": "https://localhost:8080/"
        },
        "id": "ZYbwz2ZwkHkb",
        "outputId": "7bdb6a37-9ad0-4b9b-f092-f54fb332d702"
      },
      "execution_count": null,
      "outputs": [
        {
          "output_type": "stream",
          "name": "stdout",
          "text": [
            "Epoch 1/15\n",
            "1500/1500 [==============================] - 32s 14ms/step - loss: 0.0945 - accuracy: 0.7066 - val_loss: 0.0701 - val_accuracy: 0.7969\n",
            "Epoch 2/15\n",
            "1500/1500 [==============================] - 16s 10ms/step - loss: 0.0700 - accuracy: 0.8166 - val_loss: 0.0523 - val_accuracy: 0.8793\n",
            "Epoch 3/15\n",
            "1500/1500 [==============================] - 16s 11ms/step - loss: 0.0634 - accuracy: 0.8405 - val_loss: 0.0463 - val_accuracy: 0.8978\n",
            "Epoch 4/15\n",
            "1500/1500 [==============================] - 16s 11ms/step - loss: 0.0607 - accuracy: 0.8512 - val_loss: 0.0433 - val_accuracy: 0.9050\n",
            "Epoch 5/15\n",
            "1500/1500 [==============================] - 17s 11ms/step - loss: 0.0593 - accuracy: 0.8567 - val_loss: 0.0448 - val_accuracy: 0.9002\n",
            "Epoch 6/15\n",
            "1500/1500 [==============================] - 16s 11ms/step - loss: 0.0580 - accuracy: 0.8613 - val_loss: 0.0413 - val_accuracy: 0.9114\n",
            "Epoch 7/15\n",
            "1500/1500 [==============================] - 16s 11ms/step - loss: 0.0572 - accuracy: 0.8644 - val_loss: 0.0442 - val_accuracy: 0.9010\n",
            "Epoch 8/15\n",
            "1500/1500 [==============================] - 16s 11ms/step - loss: 0.0562 - accuracy: 0.8691 - val_loss: 0.0405 - val_accuracy: 0.9120\n",
            "Epoch 9/15\n",
            "1500/1500 [==============================] - 17s 11ms/step - loss: 0.0558 - accuracy: 0.8701 - val_loss: 0.0396 - val_accuracy: 0.9169\n",
            "Epoch 10/15\n",
            "1500/1500 [==============================] - 17s 11ms/step - loss: 0.0551 - accuracy: 0.8730 - val_loss: 0.0408 - val_accuracy: 0.9121\n",
            "Epoch 11/15\n",
            "1500/1500 [==============================] - 17s 11ms/step - loss: 0.0547 - accuracy: 0.8736 - val_loss: 0.0399 - val_accuracy: 0.9141\n",
            "Epoch 12/15\n",
            "1500/1500 [==============================] - 17s 11ms/step - loss: 0.0540 - accuracy: 0.8774 - val_loss: 0.0404 - val_accuracy: 0.9169\n",
            "Epoch 13/15\n",
            "1500/1500 [==============================] - 16s 11ms/step - loss: 0.0538 - accuracy: 0.8783 - val_loss: 0.0378 - val_accuracy: 0.9219\n",
            "Epoch 14/15\n",
            "1500/1500 [==============================] - 17s 11ms/step - loss: 0.0532 - accuracy: 0.8805 - val_loss: 0.0409 - val_accuracy: 0.9134\n",
            "Epoch 15/15\n",
            "1500/1500 [==============================] - 17s 11ms/step - loss: 0.0534 - accuracy: 0.8786 - val_loss: 0.0376 - val_accuracy: 0.9213\n"
          ]
        }
      ]
    },
    {
      "cell_type": "code",
      "source": [
        "plot_history(history.history)"
      ],
      "metadata": {
        "colab": {
          "base_uri": "https://localhost:8080/",
          "height": 472
        },
        "id": "CmWssaS4kNP4",
        "outputId": "728bceb0-c917-4263-f44c-2e5e5d8bc22e"
      },
      "execution_count": null,
      "outputs": [
        {
          "output_type": "display_data",
          "data": {
            "text/plain": [
              "<Figure size 640x480 with 1 Axes>"
            ],
            "image/png": "[encoded data removed]"
          },
          "metadata": {}
        }
      ]
    },
    {
      "cell_type": "code",
      "source": [
        "predictions = np.round(1 - model.predict([x_pairs_test[:, 0], x_pairs_test[:, 1]]))\n",
        "display_pairs(x_pairs_test, predictions, predictions == y_pairs_test)\n",
        "\n",
        "accuracy = metrics.BinaryAccuracy()\n",
        "accuracy.update_state(y_pairs_test, predictions)\n",
        "print(f\"\\nAccuracy: {accuracy.result().numpy()}\")"
      ],
      "metadata": {
        "colab": {
          "base_uri": "https://localhost:8080/",
          "height": 208
        },
        "id": "31594SUBkN8j",
        "outputId": "2c6c5509-5de6-4739-cab2-0526ccd9b3e3"
      },
      "execution_count": null,
      "outputs": [
        {
          "output_type": "stream",
          "name": "stdout",
          "text": [
            "625/625 [==============================] - 2s 2ms/step\n"
          ]
        },
        {
          "output_type": "display_data",
          "data": {
            "text/plain": [
              "<Figure size 2000x600 with 20 Axes>"
            ],
            "image/png": "[encoded data removed]"
          },
          "metadata": {}
        },
        {
          "output_type": "stream",
          "name": "stdout",
          "text": [
            "\n",
            "Accuracy: 0.9247499704360962\n"
          ]
        }
      ]
    }
  ]
}